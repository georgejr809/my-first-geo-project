{
 "cells": [
  {
   "cell_type": "code",
   "execution_count": 1,
   "id": "7a104891",
   "metadata": {},
   "outputs": [
    {
     "data": {
      "application/vnd.jupyter.widget-view+json": {
       "model_id": "a8be9cde566549a68b065bbb178d2b08",
       "version_major": 2,
       "version_minor": 0
      },
      "text/plain": [
       "Map(center=[8.7, 126.0], controls=(ZoomControl(options=['position', 'zoom_in_text', 'zoom_in_title', 'zoom_out…"
      ]
     },
     "execution_count": 1,
     "metadata": {},
     "output_type": "execute_result"
    }
   ],
   "source": [
    "import leafmap\n",
    "\n",
    "# Centered on Caraga Region with a basemap of your choice\n",
    "m = leafmap.Map(center=[8.7, 126.0], zoom=9, basemap=\"Google Satellite\")\n",
    "m\n"
   ]
  },
  {
   "cell_type": "code",
   "execution_count": 3,
   "id": "951ce722",
   "metadata": {},
   "outputs": [
    {
     "data": {
      "text/plain": [
       "['OpenStreetMap',\n",
       " 'Google Maps',\n",
       " 'Google Satellite',\n",
       " 'Google Terrain',\n",
       " 'Google Hybrid',\n",
       " 'FWS NWI Wetlands',\n",
       " 'FWS NWI Wetlands Raster',\n",
       " 'NLCD 2021 CONUS Land Cover',\n",
       " 'NLCD 2019 CONUS Land Cover',\n",
       " 'NLCD 2016 CONUS Land Cover',\n",
       " 'NLCD 2013 CONUS Land Cover',\n",
       " 'NLCD 2011 CONUS Land Cover',\n",
       " 'NLCD 2008 CONUS Land Cover',\n",
       " 'NLCD 2006 CONUS Land Cover',\n",
       " 'NLCD 2004 CONUS Land Cover',\n",
       " 'NLCD 2001 CONUS Land Cover',\n",
       " 'USGS NAIP Imagery',\n",
       " 'USGS NAIP Imagery False Color',\n",
       " 'USGS NAIP Imagery NDVI',\n",
       " 'USGS Hydrography',\n",
       " 'USGS 3DEP Elevation',\n",
       " 'ESA Worldcover 2020',\n",
       " 'ESA Worldcover 2020 S2 FCC',\n",
       " 'ESA Worldcover 2020 S2 TCC',\n",
       " 'ESA Worldcover 2021']"
      ]
     },
     "execution_count": 3,
     "metadata": {},
     "output_type": "execute_result"
    }
   ],
   "source": [
    "import leafmap\n",
    "list(leafmap.basemaps.keys())[:25]  # peek at some\n"
   ]
  }
 ],
 "metadata": {
  "kernelspec": {
   "display_name": "geo",
   "language": "python",
   "name": "python3"
  },
  "language_info": {
   "codemirror_mode": {
    "name": "ipython",
    "version": 3
   },
   "file_extension": ".py",
   "mimetype": "text/x-python",
   "name": "python",
   "nbconvert_exporter": "python",
   "pygments_lexer": "ipython3",
   "version": "3.12.11"
  }
 },
 "nbformat": 4,
 "nbformat_minor": 5
}
